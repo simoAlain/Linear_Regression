{
 "cells": [
  {
   "cell_type": "markdown",
   "metadata": {},
   "source": [
    "<h1 style=\"text-align: center;\"><a title=\"Data Science-AIMS-Cmr-2021-22\">Linear Regression (Practicals) </h1>"
   ]
  },
  {
   "cell_type": "markdown",
   "metadata": {
    "id": "XD2TkkcXS5LM"
   },
   "source": [
    "\n",
    "Credits:\n",
    "* These material are adapted from Emmanuel Dufourq's SSMDS 2019, AIMS SA\n",
    "\n",
    "\n",
    "* This notebook will make use of Scikit-learn's Linear Regression class. The documentation is found here: https://scikit-learn.org/stable/modules/generated/sklearn.linear_model.LinearRegression.html\n",
    "\n",
    "\n",
    "* The notebooks on linear regression are modifications of various sources which include:\n",
    "https://scikit-learn.org/stable/auto_examples/linear_model/plot_ols.html\n",
    "https://medium.com/analytics-vidhya/linear-regression-using-python-ce21aa90ade6\n",
    "https://www.kdnuggets.com/2019/03/beginners-guide-linear-regression-python-scikit-learn.html/2"
   ]
  },
  {
   "cell_type": "markdown",
   "metadata": {
    "id": "LObti6L0XfQK"
   },
   "source": [
    "## Various Python imports"
   ]
  },
  {
   "cell_type": "code",
   "execution_count": null,
   "metadata": {
    "id": "0_oxA3C0LT5E"
   },
   "outputs": [],
   "source": [
    "import matplotlib.pyplot as plt\n",
    "import numpy as np\n",
    "import pandas as pd\n",
    "from sklearn import datasets\n",
    "from sklearn.linear_model import LinearRegression\n",
    "from sklearn.metrics import mean_squared_error, r2_score, mean_absolute_error\n",
    "from sklearn.model_selection import train_test_split"
   ]
  },
  {
   "cell_type": "markdown",
   "metadata": {
    "id": "AwpNJvWyXhi7"
   },
   "source": [
    "## Load the dataset"
   ]
  },
  {
   "cell_type": "code",
   "execution_count": null,
   "metadata": {
    "id": "77jn_sloQgKu"
   },
   "outputs": [],
   "source": [
    "dataset = pd.read_csv('https://drive.google.com/uc?export=download&id=1AWNAffJ6dG4ZGsLDn5T6snCSvk08IpxE')\n"
   ]
  },
  {
   "cell_type": "markdown",
   "metadata": {
    "id": "Q9cgy6f8XknX"
   },
   "source": [
    "## Take a look at what has been downloaded"
   ]
  },
  {
   "cell_type": "code",
   "execution_count": null,
   "metadata": {
    "colab": {
     "base_uri": "https://localhost:8080/",
     "height": 238
    },
    "id": "j81ihEsxXku1",
    "outputId": "951953c1-461c-4e0e-d30e-231b5f14628a"
   },
   "outputs": [],
   "source": [
    "dataset.head(6)"
   ]
  },
  {
   "cell_type": "markdown",
   "metadata": {
    "id": "YAxnJRTLsMuX"
   },
   "source": [
    "## Shuffle the data around"
   ]
  },
  {
   "cell_type": "code",
   "execution_count": null,
   "metadata": {
    "id": "9k9fu4FAsM1J"
   },
   "outputs": [],
   "source": [
    "dataset = dataset.sample(frac=1)\n",
    "dataset.head()"
   ]
  },
  {
   "cell_type": "markdown",
   "metadata": {
    "id": "KC5MccDlrc68"
   },
   "source": [
    "## Extract the data from the Pandas dataframe into X and Y\n",
    "\n",
    "In this case we know the target is called _target_ so to get the values of X we can use the built in `drop` function."
   ]
  },
  {
   "cell_type": "code",
   "execution_count": null,
   "metadata": {
    "id": "6lmU2oF6rdCG"
   },
   "outputs": [],
   "source": [
    "X = dataset.drop('target', axis=1).values\n",
    "Y = dataset['target'].values"
   ]
  },
  {
   "cell_type": "code",
   "execution_count": null,
   "metadata": {
    "colab": {
     "base_uri": "https://localhost:8080/",
     "height": 142
    },
    "id": "BrxF1hmmmJpm",
    "outputId": "9375b243-a0a3-4361-b56f-2f931eb4ffd3"
   },
   "outputs": [],
   "source": [
    "X[:, [0,-1]]"
   ]
  },
  {
   "cell_type": "markdown",
   "metadata": {},
   "source": [
    "The code below builds a regression model between every single feature and the output at a time and outputs for each of the models the MSE , MAE and RSME \n"
   ]
  },
  {
   "cell_type": "code",
   "execution_count": null,
   "metadata": {},
   "outputs": [],
   "source": [
    "def FeaturesAndScores(size_of_features):\n",
    "    \n",
    "    scores = []\n",
    "    for i in range(size_of_features):\n",
    "        X_train , X_test , Y_train , Y_test = train_test_split(X[:,i] , Y , random_state=0)\n",
    "        X_train = X_train.reshape(-1, 1)\n",
    "        X_test = X_test.reshape(-1, 1)\n",
    "        model1 = LinearRegression()\n",
    "        model1.fit(X_train, Y_train)\n",
    "        Y_pred = model.predict(X_test)\n",
    "        scores.append(  ( mean_squared_error(Y_test, Y_pred) , \n",
    "                        mean_absolute_error(Y_test, Y_pred), \\\n",
    "                        np.sqrt(mean_squared_error(Y_test, Y_pred)) ))\n",
    "    df = pd.DataFrame(scores)\n",
    "    df.columns = [  'MSE' , 'MAE' , 'RMSE']\n",
    "    df.index = list(dataset.columns)[:-1]  \n",
    "    return df"
   ]
  },
  {
   "cell_type": "markdown",
   "metadata": {},
   "source": [
    "The code below increments on the number of features whem constructing the feature matrix and at each iteration,  builds a regression model between an increasing subset of features and the output, and at a time and outputs the MSE , MAE and RSME for each of the models . \n"
   ]
  },
  {
   "cell_type": "code",
   "execution_count": null,
   "metadata": {},
   "outputs": [],
   "source": [
    "def FeaturesAndScores_Acc(size_of_features):\n",
    "    \n",
    "    scores = []\n",
    "    for i in range( 1,size_of_features):\n",
    "        X_train , X_test , Y_train , Y_test = train_test_split(X[:,:i] , Y , random_state=0)\n",
    "#         X_train = X_train.reshape(-1, 1)\n",
    "#         X_test = X_test.reshape(-1, 1)\n",
    "        model2 = LinearRegression()\n",
    "        model2.fit(X_train, Y_train)\n",
    "        Y_pred = model2.predict(X_test)\n",
    "        scores.append(  ( mean_squared_error(Y_test, Y_pred) , \n",
    "                        mean_absolute_error(Y_test, Y_pred), \\\n",
    "                        np.sqrt(mean_squared_error(Y_test, Y_pred)) ))\n",
    "    df = pd.DataFrame(scores)\n",
    "    df.columns = [  'MSE' , 'MAE' , 'RMSE']\n",
    "    #df.index = list(dataset.columns)[:-1]  \n",
    "    return df"
   ]
  },
  {
   "cell_type": "code",
   "execution_count": null,
   "metadata": {},
   "outputs": [],
   "source": [
    "FeaturesAndScores_Acc(11)"
   ]
  },
  {
   "cell_type": "markdown",
   "metadata": {},
   "source": [
    "Sometimes, it is good practice to normalize your set of features before training the model. Here, you will learn how to build a pipeline that instantiate the models together with the normalization process"
   ]
  },
  {
   "cell_type": "code",
   "execution_count": null,
   "metadata": {},
   "outputs": [],
   "source": [
    "from sklearn.pipeline import make_pipeline\n",
    "from sklearn.preprocessing import StandardScaler\n",
    "\n",
    "X_train , X_test , Y_train , Y_test = train_test_split(X , Y ,test_size=0.25, random_state=1)\n",
    "\n",
    "model = make_pipeline(StandardScaler(with_mean=False), LinearRegression())"
   ]
  },
  {
   "cell_type": "markdown",
   "metadata": {},
   "source": [
    "\n",
    "## Task 1:\n",
    "\n",
    "\n",
    "1. Adjust the processes `FeaturesAndScores` and `FeaturesAndScores_Acc` in order to include the pipeline in it and train your  models under the new frameworks?\n",
    "\n",
    "2. Use your knowledge from previous notebooks  and build a regression model between the given inputs and outputs.\n"
   ]
  },
  {
   "cell_type": "code",
   "execution_count": null,
   "metadata": {},
   "outputs": [],
   "source": []
  },
  {
   "cell_type": "code",
   "execution_count": null,
   "metadata": {
    "id": "5qPyIbGRuZh1"
   },
   "outputs": [],
   "source": [
    "## YOUR CODE HERE\n",
    "\n",
    "\n"
   ]
  },
  {
   "cell_type": "code",
   "execution_count": null,
   "metadata": {
    "id": "5HatMKkQf9gC"
   },
   "outputs": [],
   "source": []
  },
  {
   "cell_type": "markdown",
   "metadata": {},
   "source": [
    "This section is up to you to add code and solve the problem. The code below will allow you to download another test set and you will make predictions on that data. When you are satisfied with the performance of your model you will submit your final score online for comparisons.\n"
   ]
  },
  {
   "cell_type": "markdown",
   "metadata": {
    "id": "op1uT_NQusKe"
   },
   "source": [
    "## Download another test set for evaluation\n",
    "\n",
    "Do not change the code below."
   ]
  },
  {
   "cell_type": "code",
   "execution_count": null,
   "metadata": {
    "id": "d5gbaf5juuaK"
   },
   "outputs": [],
   "source": [
    "dataset_evaluation = pd.read_csv('https://drive.google.com/uc?export=download&id=10pz4QqiTnxTXouvJulW8h9z71ojSJ2Xk')\n",
    "X_evaluation = dataset_evaluation.drop('target', axis=1).values\n",
    "Y_evaluation = dataset_evaluation['target'].values"
   ]
  },
  {
   "cell_type": "markdown",
   "metadata": {
    "id": "g3_3EWektfaB"
   },
   "source": [
    "## Store your model predictions here\n",
    "\n",
    "Do not change the name `Y_eval_prediction`.\n",
    "\n",
    "Make sure your linear regression model variable is called `model` otherwise the code below will not work."
   ]
  },
  {
   "cell_type": "code",
   "execution_count": null,
   "metadata": {
    "colab": {
     "base_uri": "https://localhost:8080/",
     "height": 35
    },
    "id": "OzahufkUpF35",
    "outputId": "b0eebd85-1bf0-4f7f-9c12-af5c33cfa0ab"
   },
   "outputs": [],
   "source": [
    "X_evaluation.shape"
   ]
  },
  {
   "cell_type": "code",
   "execution_count": null,
   "metadata": {
    "id": "gm7xXBHDuNTS"
   },
   "outputs": [],
   "source": [
    "Y_eval_prediction = model.predict(X_evaluation)"
   ]
  },
  {
   "cell_type": "markdown",
   "metadata": {
    "id": "ogHytFGxu1Yi"
   },
   "source": [
    "## Evaluate your model on this test data. \n",
    "\n",
    "Do not change the code."
   ]
  },
  {
   "cell_type": "code",
   "execution_count": null,
   "metadata": {
    "colab": {
     "base_uri": "https://localhost:8080/",
     "height": 35
    },
    "id": "WCCNrns1tfha",
    "outputId": "adb38cd2-e87f-4274-89f5-bb5ff3dd061d"
   },
   "outputs": [],
   "source": [
    "mean_absolute_error(Y_evaluation, Y_eval_prediction)"
   ]
  }
 ],
 "metadata": {
  "colab": {
   "provenance": []
  },
  "kernelspec": {
   "display_name": "Python 3 (ipykernel)",
   "language": "python",
   "name": "python3"
  },
  "language_info": {
   "codemirror_mode": {
    "name": "ipython",
    "version": 3
   },
   "file_extension": ".py",
   "mimetype": "text/x-python",
   "name": "python",
   "nbconvert_exporter": "python",
   "pygments_lexer": "ipython3",
   "version": "3.9.13"
  }
 },
 "nbformat": 4,
 "nbformat_minor": 1
}
